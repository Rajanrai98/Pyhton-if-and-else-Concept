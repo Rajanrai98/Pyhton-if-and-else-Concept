{
 "cells": [
  {
   "cell_type": "code",
   "execution_count": 1,
   "id": "25a063c1",
   "metadata": {},
   "outputs": [
    {
     "name": "stdout",
     "output_type": "stream",
     "text": [
      "True\n"
     ]
    }
   ],
   "source": [
    "x = [\"banana\",\"apple\",\"orange\"]\n",
    "print(\"apple\" in x)"
   ]
  },
  {
   "cell_type": "code",
   "execution_count": 2,
   "id": "df759996",
   "metadata": {},
   "outputs": [
    {
     "name": "stdout",
     "output_type": "stream",
     "text": [
      "True\n"
     ]
    }
   ],
   "source": [
    "x = [10,20,30,40]\n",
    "print(10 in x)"
   ]
  },
  {
   "cell_type": "code",
   "execution_count": 3,
   "id": "bb64ea36",
   "metadata": {},
   "outputs": [
    {
     "name": "stdout",
     "output_type": "stream",
     "text": [
      "candidate eligible to vote\n"
     ]
    }
   ],
   "source": [
    "age = 19\n",
    "if age>18:\n",
    "    print(\"candidate eligible to vote\")\n",
    "else:\n",
    "    print(\"not eligible\")"
   ]
  },
  {
   "cell_type": "code",
   "execution_count": 4,
   "id": "cf5ce2fd",
   "metadata": {},
   "outputs": [
    {
     "name": "stdout",
     "output_type": "stream",
     "text": [
      "age of the candidate18\n",
      "candidate eligible to vote\n"
     ]
    }
   ],
   "source": [
    "age = int(input(\"age of the candidate\"))\n",
    "if age>=18:\n",
    "    print(\"candidate eligible to vote\")\n",
    "else:\n",
    "    print(\"not eligible\")"
   ]
  },
  {
   "cell_type": "code",
   "execution_count": 5,
   "id": "e4c2bad1",
   "metadata": {},
   "outputs": [
    {
     "name": "stdout",
     "output_type": "stream",
     "text": [
      "age of the candidate18\n",
      "candidate eligible to vote\n"
     ]
    }
   ],
   "source": [
    "age = int(input(\"age of the candidate\"))\n",
    "if age>=18:\n",
    "    print(\"candidate eligible to vote\")\n",
    "else:\n",
    "    print(\"not eligible\")"
   ]
  },
  {
   "cell_type": "markdown",
   "id": "e4f3e6d3",
   "metadata": {},
   "source": [
    "## Question no = 1"
   ]
  },
  {
   "cell_type": "code",
   "execution_count": 6,
   "id": "354d91aa",
   "metadata": {},
   "outputs": [
    {
     "name": "stdout",
     "output_type": "stream",
     "text": [
      "enter the student name Nidhi\n",
      "enter the marks59\n",
      "enter the marks 65\n",
      "enter the marks 78\n",
      " Nidhi 59 65 78\n"
     ]
    }
   ],
   "source": [
    "name_of_student = input(\"enter the student name\")\n",
    "marks_in_sub_1 = int(input(\"enter the marks\"))\n",
    "marks_in_sub_2 = int(input(\"enter the marks\"))\n",
    "marks_in_sub_3 = int(input(\"enter the marks\"))\n",
    "\n",
    "print(name_of_student,marks_in_sub_1,marks_in_sub_2,marks_in_sub_3)"
   ]
  },
  {
   "cell_type": "code",
   "execution_count": 8,
   "id": "3f8e484e",
   "metadata": {},
   "outputs": [
    {
     "name": "stdout",
     "output_type": "stream",
     "text": [
      "202\n"
     ]
    }
   ],
   "source": [
    "add_Nidhi_Marks= marks_in_sub_1+marks_in_sub_2+marks_in_sub_3\n",
    "print(add)"
   ]
  },
  {
   "cell_type": "code",
   "execution_count": 10,
   "id": "4a506019",
   "metadata": {},
   "outputs": [
    {
     "name": "stdout",
     "output_type": "stream",
     "text": [
      "enter the student name Shubh\n",
      "enter the marks 78\n",
      "enter the marks 89\n",
      "enter the marks 69\n",
      " Shubh 45 89 78\n"
     ]
    }
   ],
   "source": [
    "name_of_student = input(\"enter the student name\")\n",
    "marks_in_sub_01 = int(input(\"enter the marks\"))\n",
    "marks_in_sub_02 = int(input(\"enter the marks\"))\n",
    "marks_in_sub_03 = int(input(\"enter the marks\"))\n",
    "print(name_of_student,marks_in_sub_1,marks_in_sub_2,marks_in_sub_3)\n",
    "\n"
   ]
  },
  {
   "cell_type": "code",
   "execution_count": 11,
   "id": "db312f27",
   "metadata": {},
   "outputs": [
    {
     "name": "stdout",
     "output_type": "stream",
     "text": [
      "236\n"
     ]
    }
   ],
   "source": [
    "add_Shubh_marks = marks_in_sub_01+marks_in_sub_02+marks_in_sub_03\n",
    "print(add_Shubh_marks)"
   ]
  },
  {
   "cell_type": "code",
   "execution_count": 12,
   "id": "1701d6bc",
   "metadata": {},
   "outputs": [
    {
     "name": "stdout",
     "output_type": "stream",
     "text": [
      "False\n"
     ]
    }
   ],
   "source": [
    "add_Shubh_marks = 236\n",
    "add_Nidhi_Makrs = 202\n",
    "if add_Shubh_marks == add_Nidhi_Marks:\n",
    "    print(\"True\")\n",
    "else:\n",
    "    print(\"False\")"
   ]
  },
  {
   "cell_type": "markdown",
   "id": "af85fbe3",
   "metadata": {},
   "source": [
    "## Question no = 2"
   ]
  },
  {
   "cell_type": "code",
   "execution_count": 15,
   "id": "76e4f0d6",
   "metadata": {},
   "outputs": [],
   "source": [
    "def sec_to_min(sec):\n",
    "    minutes = sec/60\n",
    "    return(minutes)"
   ]
  },
  {
   "cell_type": "code",
   "execution_count": 16,
   "id": "7c70ba8d",
   "metadata": {},
   "outputs": [
    {
     "data": {
      "text/plain": [
       "0.03333333333333333"
      ]
     },
     "execution_count": 16,
     "metadata": {},
     "output_type": "execute_result"
    }
   ],
   "source": [
    "sec_to_min(2)"
   ]
  },
  {
   "cell_type": "code",
   "execution_count": 17,
   "id": "13d63fdd",
   "metadata": {},
   "outputs": [
    {
     "data": {
      "text/plain": [
       "1.0"
      ]
     },
     "execution_count": 17,
     "metadata": {},
     "output_type": "execute_result"
    }
   ],
   "source": [
    "sec_to_min(60)"
   ]
  },
  {
   "cell_type": "code",
   "execution_count": 18,
   "id": "6970b659",
   "metadata": {},
   "outputs": [
    {
     "data": {
      "text/plain": [
       "2.0833333333333335"
      ]
     },
     "execution_count": 18,
     "metadata": {},
     "output_type": "execute_result"
    }
   ],
   "source": [
    "sec_to_min(125)"
   ]
  },
  {
   "cell_type": "markdown",
   "id": "0c7df555",
   "metadata": {},
   "source": [
    "## Question no = 3"
   ]
  },
  {
   "cell_type": "code",
   "execution_count": 19,
   "id": "785b8c44",
   "metadata": {},
   "outputs": [],
   "source": [
    "def km_to_m_per_sec(km):\n",
    "    meter_per_sec = km*(5/18)\n",
    "    return meter_per_sec"
   ]
  },
  {
   "cell_type": "code",
   "execution_count": 20,
   "id": "06241f70",
   "metadata": {},
   "outputs": [
    {
     "data": {
      "text/plain": [
       "5.0"
      ]
     },
     "execution_count": 20,
     "metadata": {},
     "output_type": "execute_result"
    }
   ],
   "source": [
    "km_to_m_per_sec(18)"
   ]
  },
  {
   "cell_type": "code",
   "execution_count": 21,
   "id": "6d90b4f3",
   "metadata": {},
   "outputs": [
    {
     "data": {
      "text/plain": [
       "16.666666666666668"
      ]
     },
     "execution_count": 21,
     "metadata": {},
     "output_type": "execute_result"
    }
   ],
   "source": [
    "km_to_m_per_sec(60)"
   ]
  },
  {
   "cell_type": "markdown",
   "id": "b47e0783",
   "metadata": {},
   "source": [
    "## Question = 4"
   ]
  },
  {
   "cell_type": "code",
   "execution_count": 37,
   "id": "b6eeb76c",
   "metadata": {},
   "outputs": [],
   "source": [
    "\n",
    "def degree_F_to_degree_cel(Fahrenhit):\n",
    "    Celcius  = (Fahrenhit-32)/1.8\n",
    "    return Celcius"
   ]
  },
  {
   "cell_type": "code",
   "execution_count": 38,
   "id": "94159891",
   "metadata": {},
   "outputs": [
    {
     "data": {
      "text/plain": [
       "0.0"
      ]
     },
     "execution_count": 38,
     "metadata": {},
     "output_type": "execute_result"
    }
   ],
   "source": [
    "degree_F_to_degree_cel(32)"
   ]
  },
  {
   "cell_type": "code",
   "execution_count": 39,
   "id": "b7e37883",
   "metadata": {},
   "outputs": [
    {
     "data": {
      "text/plain": [
       "36.666666666666664"
      ]
     },
     "execution_count": 39,
     "metadata": {},
     "output_type": "execute_result"
    }
   ],
   "source": [
    "degree_F_to_degree_cel(98)"
   ]
  },
  {
   "cell_type": "code",
   "execution_count": 40,
   "id": "a5b0b605",
   "metadata": {},
   "outputs": [
    {
     "data": {
      "text/plain": [
       "40.0"
      ]
     },
     "execution_count": 40,
     "metadata": {},
     "output_type": "execute_result"
    }
   ],
   "source": [
    "degree_F_to_degree_cel(104)"
   ]
  },
  {
   "cell_type": "markdown",
   "id": "fa90a97d",
   "metadata": {},
   "source": [
    "## Question = 5"
   ]
  },
  {
   "cell_type": "code",
   "execution_count": null,
   "id": "150e1649",
   "metadata": {},
   "outputs": [],
   "source": []
  },
  {
   "cell_type": "code",
   "execution_count": 41,
   "id": "d490d91a",
   "metadata": {},
   "outputs": [
    {
     "name": "stdout",
     "output_type": "stream",
     "text": [
      "enter a number20\n",
      "number is even\n"
     ]
    }
   ],
   "source": [
    "number = int(input(\"enter a number\"))\n",
    "if number%2==0:\n",
    "    print(\"number is even\")\n",
    "else:\n",
    "    print(\"number is odd\")"
   ]
  },
  {
   "cell_type": "code",
   "execution_count": 42,
   "id": "e3740e27",
   "metadata": {},
   "outputs": [
    {
     "name": "stdout",
     "output_type": "stream",
     "text": [
      "enter a number13\n",
      "number is odd\n"
     ]
    }
   ],
   "source": [
    "number = int(input(\"enter a number\"))\n",
    "if number%2==0:\n",
    "    print(\"number is even\")\n",
    "else:\n",
    "    print(\"number is odd\")"
   ]
  },
  {
   "cell_type": "code",
   "execution_count": null,
   "id": "21105caa",
   "metadata": {},
   "outputs": [],
   "source": []
  }
 ],
 "metadata": {
  "kernelspec": {
   "display_name": "Python 3 (ipykernel)",
   "language": "python",
   "name": "python3"
  },
  "language_info": {
   "codemirror_mode": {
    "name": "ipython",
    "version": 3
   },
   "file_extension": ".py",
   "mimetype": "text/x-python",
   "name": "python",
   "nbconvert_exporter": "python",
   "pygments_lexer": "ipython3",
   "version": "3.10.9"
  }
 },
 "nbformat": 4,
 "nbformat_minor": 5
}
